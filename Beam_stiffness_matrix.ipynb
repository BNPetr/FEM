{
 "cells": [
  {
   "cell_type": "code",
   "execution_count": 1,
   "id": "c78678f2",
   "metadata": {},
   "outputs": [],
   "source": [
    "from sympy import Symbol, symbols, integrate, diff, simplify\n",
    "from sympy.matrices import Matrix\n",
    "from sympy.interactive.printing import init_printing\n",
    "\n",
    "# init_printing(use_unicode=True, wrap_line=False)"
   ]
  },
  {
   "cell_type": "code",
   "execution_count": 2,
   "id": "01661f8f",
   "metadata": {},
   "outputs": [
    {
     "data": {
      "text/latex": [
       "$\\displaystyle \\left[\\begin{matrix}1 & x & 0 & 0 & 0 & 0\\\\0 & 0 & 1 & x & x^{2} & x^{3}\\\\0 & 0 & 0 & 1 & 2 x & 3 x^{2}\\end{matrix}\\right]$"
      ],
      "text/plain": [
       "Matrix([\n",
       "[1, x, 0, 0,    0,      0],\n",
       "[0, 0, 1, x, x**2,   x**3],\n",
       "[0, 0, 0, 1,  2*x, 3*x**2]])"
      ]
     },
     "execution_count": 2,
     "metadata": {},
     "output_type": "execute_result"
    }
   ],
   "source": [
    "# Координата по длине балочного элемента.\n",
    "x = Symbol('x')\n",
    "\n",
    "# Полиномы поля перемещений балочного элемента (без постоянных коэффициентов).\n",
    "Q = Matrix([[1, x, 0, 0,    0,      0],  # Продольное перемещение (tx).\n",
    "            [0, 0, 1, x, x**2,   x**3],  # Поперечное перемещение (ty).\t\n",
    "            [0, 0, 0, 1,  2*x, 3*x**2]]) # Поворот сечения (rz).\n",
    "Q"
   ]
  },
  {
   "cell_type": "code",
   "execution_count": 3,
   "id": "8d1de687",
   "metadata": {},
   "outputs": [
    {
     "data": {
      "text/latex": [
       "$\\displaystyle \\left[\\begin{matrix}1 & 0 & 0 & 0 & 0 & 0\\\\0 & 0 & 1 & 0 & 0 & 0\\\\0 & 0 & 0 & 1 & 0 & 0\\\\1 & L & 0 & 0 & 0 & 0\\\\0 & 0 & 1 & L & L^{2} & L^{3}\\\\0 & 0 & 0 & 1 & 2 L & 3 L^{2}\\end{matrix}\\right]$"
      ],
      "text/plain": [
       "Matrix([\n",
       "[1, 0, 0, 0,    0,      0],\n",
       "[0, 0, 1, 0,    0,      0],\n",
       "[0, 0, 0, 1,    0,      0],\n",
       "[1, L, 0, 0,    0,      0],\n",
       "[0, 0, 1, L, L**2,   L**3],\n",
       "[0, 0, 0, 1,  2*L, 3*L**2]])"
      ]
     },
     "execution_count": 3,
     "metadata": {},
     "output_type": "execute_result"
    }
   ],
   "source": [
    "# Перемещения начала и конца балочного элемента.\n",
    "Z = Matrix(symbols('tx1, ty1, rz1, tx2, ty2, rz2'))\n",
    "# Длина балочного элемента.\n",
    "L = Symbol('L')\n",
    "# Полиномы для перемещения начала и конца балочного элемента.\n",
    "C = Q.subs(x, 0).col_join( Q.subs(x, L) )\n",
    "C"
   ]
  },
  {
   "cell_type": "code",
   "execution_count": 4,
   "id": "6bedaaf6",
   "metadata": {},
   "outputs": [
    {
     "data": {
      "text/latex": [
       "$\\displaystyle \\left[\\begin{matrix}tx_{1} \\left(1 - \\frac{x}{L}\\right) + \\frac{tx_{2} x}{L}\\\\rz_{1} \\left(x - \\frac{2 x^{2}}{L} + \\frac{x^{3}}{L^{2}}\\right) + rz_{2} \\left(- \\frac{x^{2}}{L} + \\frac{x^{3}}{L^{2}}\\right) + ty_{1} \\left(1 - \\frac{3 x^{2}}{L^{2}} + \\frac{2 x^{3}}{L^{3}}\\right) + ty_{2} \\left(\\frac{3 x^{2}}{L^{2}} - \\frac{2 x^{3}}{L^{3}}\\right)\\\\rz_{1} \\left(1 - \\frac{4 x}{L} + \\frac{3 x^{2}}{L^{2}}\\right) + rz_{2} \\left(- \\frac{2 x}{L} + \\frac{3 x^{2}}{L^{2}}\\right) + ty_{1} \\left(- \\frac{6 x}{L^{2}} + \\frac{6 x^{2}}{L^{3}}\\right) + ty_{2} \\left(\\frac{6 x}{L^{2}} - \\frac{6 x^{2}}{L^{3}}\\right)\\end{matrix}\\right]$"
      ],
      "text/plain": [
       "Matrix([\n",
       "[                                                                                                           tx1*(1 - x/L) + tx2*x/L],\n",
       "[rz1*(x - 2*x**2/L + x**3/L**2) + rz2*(-x**2/L + x**3/L**2) + ty1*(1 - 3*x**2/L**2 + 2*x**3/L**3) + ty2*(3*x**2/L**2 - 2*x**3/L**3)],\n",
       "[         rz1*(1 - 4*x/L + 3*x**2/L**2) + rz2*(-2*x/L + 3*x**2/L**2) + ty1*(-6*x/L**2 + 6*x**2/L**3) + ty2*(6*x/L**2 - 6*x**2/L**3)]])"
      ]
     },
     "execution_count": 4,
     "metadata": {},
     "output_type": "execute_result"
    }
   ],
   "source": [
    "# Выражение поля перемещений через перемещение начала и конца балочного элемента.\n",
    "B = Q * C.inv() * Z\n",
    "B"
   ]
  },
  {
   "cell_type": "code",
   "execution_count": 5,
   "id": "dd397322",
   "metadata": {},
   "outputs": [
    {
     "data": {
      "text/latex": [
       "$\\displaystyle \\frac{4 EF \\left(L^{2} rz_{1}^{2} + L^{2} rz_{1} rz_{2} + L^{2} rz_{2}^{2} + 3 L rz_{1} ty_{1} - 3 L rz_{1} ty_{2} + 3 L rz_{2} ty_{1} - 3 L rz_{2} ty_{2} + 3 ty_{1}^{2} - 6 ty_{1} ty_{2} + 3 ty_{2}^{2}\\right) + EI L^{2} \\left(tx_{1} - tx_{2}\\right)^{2}}{2 L^{3}}$"
      ],
      "text/plain": [
       "(4*EF*(L**2*rz1**2 + L**2*rz1*rz2 + L**2*rz2**2 + 3*L*rz1*ty1 - 3*L*rz1*ty2 + 3*L*rz2*ty1 - 3*L*rz2*ty2 + 3*ty1**2 - 6*ty1*ty2 + 3*ty2**2) + EI*L**2*(tx1 - tx2)**2)/(2*L**3)"
      ]
     },
     "execution_count": 5,
     "metadata": {},
     "output_type": "execute_result"
    }
   ],
   "source": [
    "# Погонная изгибная жесткость балки.\n",
    "EF = Symbol('EI')\n",
    "# Погонная осевая жесткость балки.\n",
    "EI = Symbol('EF')\n",
    "# Энергия деформации балки.\n",
    "Energy  = EF/2 * integrate(diff(B[0], x)**2, (x, 0, L))\n",
    "Energy += EI/2 * integrate(diff(B[1], x, 2)**2, (x, 0, L))\n",
    "simplify(Energy)"
   ]
  },
  {
   "cell_type": "code",
   "execution_count": 6,
   "id": "d153a36f",
   "metadata": {},
   "outputs": [
    {
     "data": {
      "text/latex": [
       "$\\displaystyle \\left[\\begin{matrix}\\frac{EI \\left(tx_{1} - tx_{2}\\right)}{L}\\\\\\frac{6 EF \\left(L rz_{1} + L rz_{2} + 2 ty_{1} - 2 ty_{2}\\right)}{L^{3}}\\\\\\frac{2 EF \\left(2 L rz_{1} + L rz_{2} + 3 ty_{1} - 3 ty_{2}\\right)}{L^{2}}\\\\\\frac{EI \\left(- tx_{1} + tx_{2}\\right)}{L}\\\\\\frac{6 EF \\left(- L rz_{1} - L rz_{2} - 2 ty_{1} + 2 ty_{2}\\right)}{L^{3}}\\\\\\frac{2 EF \\left(L rz_{1} + 2 L rz_{2} + 3 ty_{1} - 3 ty_{2}\\right)}{L^{2}}\\end{matrix}\\right]$"
      ],
      "text/plain": [
       "Matrix([\n",
       "[                           EI*(tx1 - tx2)/L],\n",
       "[  6*EF*(L*rz1 + L*rz2 + 2*ty1 - 2*ty2)/L**3],\n",
       "[2*EF*(2*L*rz1 + L*rz2 + 3*ty1 - 3*ty2)/L**2],\n",
       "[                          EI*(-tx1 + tx2)/L],\n",
       "[ 6*EF*(-L*rz1 - L*rz2 - 2*ty1 + 2*ty2)/L**3],\n",
       "[2*EF*(L*rz1 + 2*L*rz2 + 3*ty1 - 3*ty2)/L**2]])"
      ]
     },
     "execution_count": 6,
     "metadata": {},
     "output_type": "execute_result"
    }
   ],
   "source": [
    "# Приращения энергии деформации балки по координатам.\n",
    "dEnergy = Matrix( len(Z), 1, lambda i, j: diff(Energy, Z[i]) )\n",
    "simplify(dEnergy)"
   ]
  },
  {
   "cell_type": "code",
   "execution_count": 7,
   "id": "6f2e97f0",
   "metadata": {},
   "outputs": [
    {
     "data": {
      "text/latex": [
       "$\\displaystyle \\left[\\begin{matrix}\\frac{EI}{L} & 0 & 0 & - \\frac{EI}{L} & 0 & 0\\\\0 & \\frac{12 EF}{L^{3}} & \\frac{6 EF}{L^{2}} & 0 & - \\frac{12 EF}{L^{3}} & \\frac{6 EF}{L^{2}}\\\\0 & \\frac{6 EF}{L^{2}} & \\frac{4 EF}{L} & 0 & - \\frac{6 EF}{L^{2}} & \\frac{2 EF}{L}\\\\- \\frac{EI}{L} & 0 & 0 & \\frac{EI}{L} & 0 & 0\\\\0 & - \\frac{12 EF}{L^{3}} & - \\frac{6 EF}{L^{2}} & 0 & \\frac{12 EF}{L^{3}} & - \\frac{6 EF}{L^{2}}\\\\0 & \\frac{6 EF}{L^{2}} & \\frac{2 EF}{L} & 0 & - \\frac{6 EF}{L^{2}} & \\frac{4 EF}{L}\\end{matrix}\\right]$"
      ],
      "text/plain": [
       "Matrix([\n",
       "[ EI/L,           0,          0, -EI/L,           0,          0],\n",
       "[    0,  12*EF/L**3,  6*EF/L**2,     0, -12*EF/L**3,  6*EF/L**2],\n",
       "[    0,   6*EF/L**2,     4*EF/L,     0,  -6*EF/L**2,     2*EF/L],\n",
       "[-EI/L,           0,          0,  EI/L,           0,          0],\n",
       "[    0, -12*EF/L**3, -6*EF/L**2,     0,  12*EF/L**3, -6*EF/L**2],\n",
       "[    0,   6*EF/L**2,     2*EF/L,     0,  -6*EF/L**2,     4*EF/L]])"
      ]
     },
     "execution_count": 7,
     "metadata": {},
     "output_type": "execute_result"
    }
   ],
   "source": [
    "# Матрица жесткости элемента.\n",
    "K = simplify( Matrix(len(Z), len(Z), lambda i, j: (dEnergy - dEnergy.subs(Z[i], 0))[j]) )\n",
    "for z in Z:\n",
    "\tK = K.subs(z, 1)\n",
    "K"
   ]
  }
 ],
 "metadata": {
  "kernelspec": {
   "display_name": "Python 3",
   "language": "python",
   "name": "python3"
  },
  "language_info": {
   "codemirror_mode": {
    "name": "ipython",
    "version": 3
   },
   "file_extension": ".py",
   "mimetype": "text/x-python",
   "name": "python",
   "nbconvert_exporter": "python",
   "pygments_lexer": "ipython3",
   "version": "3.12.7"
  }
 },
 "nbformat": 4,
 "nbformat_minor": 5
}
