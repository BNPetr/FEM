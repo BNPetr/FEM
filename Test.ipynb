{
 "cells": [
  {
   "cell_type": "markdown",
   "id": "02776cb1",
   "metadata": {},
   "source": []
  },
  {
   "cell_type": "markdown",
   "id": "ec63d66e",
   "metadata": {},
   "source": []
  },
  {
   "cell_type": "markdown",
   "id": "4fe12cc7",
   "metadata": {},
   "source": []
  },
  {
   "cell_type": "markdown",
   "id": "10b48e82",
   "metadata": {},
   "source": [
    "Общая форма уравнений равновесия (в декартовых координатах)\n",
    "\n",
    "$\n",
    "\\begin{cases}\n",
    "\\dfrac{\\partial \\sigma_{xx}}{\\partial x} + \\dfrac{\\partial \\sigma_{xy}}{\\partial y} + \\dfrac{\\partial \\sigma_{xz}}{\\partial z} + f_x = 0 \\\\[2ex]\n",
    "\\dfrac{\\partial \\sigma_{yx}}{\\partial x} + \\dfrac{\\partial \\sigma_{yy}}{\\partial y} + \\dfrac{\\partial \\sigma_{yz}}{\\partial z} + f_y = 0 \\\\[2ex]\n",
    "\\dfrac{\\partial \\sigma_{zx}}{\\partial x} + \\dfrac{\\partial \\sigma_{zy}}{\\partial y} + \\dfrac{\\partial \\sigma_{zz}}{\\partial z} + f_z = 0\n",
    "\\end{cases}\n",
    "$"
   ]
  },
  {
   "cell_type": "markdown",
   "id": "9477331b",
   "metadata": {},
   "source": []
  },
  {
   "cell_type": "markdown",
   "id": "2c6b8a49",
   "metadata": {},
   "source": []
  },
  {
   "cell_type": "markdown",
   "id": "641f704d",
   "metadata": {},
   "source": []
  }
 ],
 "metadata": {
  "language_info": {
   "name": "python"
  }
 },
 "nbformat": 4,
 "nbformat_minor": 5
}
