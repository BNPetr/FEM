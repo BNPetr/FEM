{
 "cells": [
  {
   "cell_type": "markdown",
   "id": "02776cb1",
   "metadata": {},
   "source": [
    "## Описание напряженного состояния упругого тела"
   ]
  },
  {
   "cell_type": "markdown",
   "id": "ec63d66e",
   "metadata": {},
   "source": [
    "### Тензор напряжений (тензор Коши)\n",
    "\n",
    "Тензор напряжений — это симметричный тензор, который описывает распределение внутренних сил в материале. Он показывает, какие напряжения (силы на единицу площади) действуют на бесконечно малые площадки, проходящие через данную точку тела.\n",
    "\n",
    "<p align=\"center\">\n",
    "<img src=\"./Images/Stress_tensor.png\" alt=\"Тензор напряжений\" width=\"450\" style=\"background-color:white;\"/>\n",
    "</p>\n",
    "\n",
    "#### Компоненты тензора напряжений в декартовой системе координат\n",
    "\n",
    "$$\n",
    "\\boldsymbol{\\sigma} =\n",
    "\\begin{bmatrix}\n",
    "\\sigma_{xx} & \\sigma_{xy} & \\sigma_{xz} \\\\\n",
    "\\sigma_{yx} & \\sigma_{yy} & \\sigma_{yz} \\\\\n",
    "\\sigma_{zx} & \\sigma_{zy} & \\sigma_{zz}\n",
    "\\end{bmatrix}, где:\n",
    "$$\n",
    "\n",
    "- Диагональные компоненты $\\sigma_{xx}, \\sigma_{yy}, \\sigma_{zz}$ — нормальные напряжения (растяжение/сжатие).\n",
    "- Недиагональные компоненты $\\sigma_{xy}, \\sigma_{yz}$ и т.д. — касательные (сдвиговые) напряжения.\n",
    "- По закону парности касательных напряжений: $\\sigma_{ij} = \\sigma_{ji}$. Т.е. тензор симметричен, и содержит 6 независимых компонент.\n",
    "\n",
    "Если через точку провести площадку с нормалью $\\vec{n}$, то вектор напряжений на этой площадке:\n",
    "\n",
    "$$\n",
    "\\vec{T}^{(n)} = \\boldsymbol{\\sigma} \\cdot \\vec{n}\n",
    "$$"
   ]
  },
  {
   "cell_type": "markdown",
   "id": "4fe12cc7",
   "metadata": {},
   "source": [
    "### Тензор деформаций\n",
    "\n",
    "**Тензор деформаций** - это симметричный тензор, который описывает изменения формы и размеров бесконечно малого элемента тела (удлинения, сдвиги).\n",
    "\n",
    "<p align=\"center\">\n",
    "<img src=\"./Images/Strain_tensor.png\" alt=\"Тензор деформаций\" width=\"450\" style=\"background-color:white;\"/>\n",
    "</p>\n",
    "\n",
    "#### Компоненты тензора малых деформаций в декартовой системе координат\n",
    "\n",
    "$$\n",
    "\\boldsymbol{\\varepsilon} =\n",
    "\\begin{bmatrix}\n",
    "\\varepsilon_{xx} & \\varepsilon_{xy} & \\varepsilon_{xz} \\\\\n",
    "\\varepsilon_{yx} & \\varepsilon_{yy} & \\varepsilon_{yz} \\\\\n",
    "\\varepsilon_{zx} & \\varepsilon_{zy} & \\varepsilon_{zz}\n",
    "\\end{bmatrix}, где:\n",
    "$$\n",
    "$$\n",
    "\\begin{gather}\n",
    "\\varepsilon_{xx} = \\dfrac{\\partial u_x}{\\partial x}, \\varepsilon_{yy} = \\dfrac{\\partial u_y}{\\partial y}, \\varepsilon_{zz} = \\dfrac{\\partial u_z}{\\partial z} \\\\\n",
    "\\varepsilon_{xy} = \\varepsilon_{yx} = \\dfrac{1}{2} \\left( \\dfrac{\\partial u_x}{\\partial y} + \\dfrac{\\partial u_y}{\\partial x} \\right)\n",
    "\\end{gather}\n",
    "$$\n",
    "- $\\varepsilon_{xx}, \\varepsilon_{yy}, \\varepsilon_{zz}$ — относительные удлинения (нормальные деформации),\n",
    "- $\\varepsilon_{xy}, \\varepsilon_{yx}$ — половина угла сдвига в плоскости \\(xy\\),\n",
    "- Аналогично для других компонент.\n",
    "\n"
   ]
  },
  {
   "cell_type": "markdown",
   "id": "2ae9d291",
   "metadata": {},
   "source": [
    "### Связь между тензорами напряжений и деформаций - физические уравнения\n",
    "\n",
    "Для линейно упругих тел связь между напряжениями и деформациями задаётся законом Гука:\n",
    "\n",
    "$$\n",
    "\\sigma_{ij} = C_{ijkl} \\, \\varepsilon_{kl},\n",
    "$$\n",
    "\n",
    "где $C_{ijkl}$ — тензор упругих постоянных. Он содержит 81 компонент, которые в общем случае (анизотропное тело) сводятся к 21 упругой константе, а для изотропного тела — к 2: модуль Юнга и коэффициент Пуассона.\n",
    "\n",
    "Для изотропного материала закон Гука в развёрнутом виде:\n",
    "\n",
    "$$\n",
    "\\begin{cases}\n",
    "\\sigma_{xx} = \\lambda (\\varepsilon_{xx} + \\varepsilon_{yy} + \\varepsilon_{zz}) + 2\\mu \\varepsilon_{xx} \\\\\n",
    "\\sigma_{yy} = \\lambda (\\varepsilon_{xx} + \\varepsilon_{yy} + \\varepsilon_{zz}) + 2\\mu \\varepsilon_{yy} \\\\\n",
    "\\sigma_{zz} = \\lambda (\\varepsilon_{xx} + \\varepsilon_{yy} + \\varepsilon_{zz}) + 2\\mu \\varepsilon_{zz} \\\\\n",
    "\\sigma_{xy} = 2\\mu \\varepsilon_{xy} \\\\\n",
    "\\sigma_{yz} = 2\\mu \\varepsilon_{yz} \\\\\n",
    "\\sigma_{zx} = 2\\mu \\varepsilon_{zx} \\\\\n",
    "\\end{cases}\n",
    "$$\n",
    "\n",
    "где $\\lambda, \\mu$ — коэффициенты, которые называют постоянными Ламе. Через модуль Юнга $E$ и коэффициент Пуассона $\\nu$ параметры Ламе выражаются следующим образом:\n",
    "\n",
    "$$\\lambda=\\frac{\\nu E}{(1+\\nu)(1-2\\nu)}$$\n",
    "$$\\mu=\\frac{E}{2(1+\\nu)}$$\n",
    "\n",
    "Второй коэффициент Ламе $\\mu$ также называют модулем сдвига и обозначают $G$."
   ]
  },
  {
   "cell_type": "markdown",
   "id": "9964dd7b",
   "metadata": {},
   "source": [
    "### Общая форма уравнений равновесия\n",
    "\n",
    "В случае отсутствия сил инерции и при условии статического равновесия уравнения записываются так:\n",
    "\n",
    "$$\n",
    "\\begin{cases}\n",
    "\\dfrac{\\partial \\sigma_{xx}}{\\partial x} + \\dfrac{\\partial \\sigma_{xy}}{\\partial y} + \\dfrac{\\partial \\sigma_{xz}}{\\partial z} + f_x = 0 \\\\\n",
    "\\dfrac{\\partial \\sigma_{yx}}{\\partial x} + \\dfrac{\\partial \\sigma_{yy}}{\\partial y} + \\dfrac{\\partial \\sigma_{yz}}{\\partial z} + f_y = 0 \\\\\n",
    "\\dfrac{\\partial \\sigma_{zx}}{\\partial x} + \\dfrac{\\partial \\sigma_{zy}}{\\partial y} + \\dfrac{\\partial \\sigma_{zz}}{\\partial z} + f_z = 0\n",
    "\\end{cases}\n",
    "$$\n",
    "где $f_x, f_y, f_z$ — это объемные силы, например, компоненты силы тяжести."
   ]
  },
  {
   "cell_type": "markdown",
   "id": "cabb5bc9",
   "metadata": {},
   "source": [
    "### Граничные условия\n",
    "Граничные условия обычно задаются по поверхности деформированного тела. Тело условно делится на две части: на одной частb граничные условия задаются через нагрузки, на другой - через перемещения.\n",
    "\n",
    "\n",
    "### Итого\n",
    "Приведенные выше соотношения составляют систему уравнений для трехмерного упругого тела в прямоугольной системе координат: соотношения между деформациями и перемещениями (1) и (2), уравнения равновесия, физические зависимости и граничные условия. Всего имеются 15 неизвестных: 6 напряжений, 6 деформаций и 3 перемещения. В этой системе уравнений часто прибегают к замене отдельных групп уравнений. На различные вариационные принципы, например:\n",
    "- **прицип возможных перемещений (стационарность полной потенциальной энергии)**;\n",
    "- метод Рэлея-Ритца;\n",
    "- смешанные вариационные принципы."
   ]
  },
  {
   "cell_type": "markdown",
   "id": "10b48e82",
   "metadata": {},
   "source": [
    "### Метод конечных элементов\n",
    "Метод конечных элементов (МКЭ) — метод решения дифференциальных уравнений с частными производными. Суть метода состоит в том, что конструкция, представляющая собой деформируемое тело, рассматривается в виде некоторого числа конечных элементов. Элементы связаны между собой в специальных точках, называемых **узлами**. Поле перемещений в каждом элементе представляется через систему аппроксимирующих функций - **функций формы**, выраженных через перемещения в узловых точках. Вектор усилий в узлах также выражается через перемещения узлов при помощи **матрицы жесткости**.\n",
    "\n",
    "### Вывод матрицы жесткости для конечного элемента балки для плоской задачи"
   ]
  },
  {
   "cell_type": "code",
   "execution_count": 1,
   "id": "caf77959",
   "metadata": {},
   "outputs": [
    {
     "data": {
      "text/latex": [
       "$\\displaystyle \\left[\\begin{matrix}tx_{1} \\left(1 - \\frac{x}{L}\\right) + \\frac{tx_{2} x}{L}\\\\rz_{1} \\left(x - \\frac{2 x^{2}}{L} + \\frac{x^{3}}{L^{2}}\\right) + rz_{2} \\left(- \\frac{x^{2}}{L} + \\frac{x^{3}}{L^{2}}\\right) + ty_{1} \\left(1 - \\frac{3 x^{2}}{L^{2}} + \\frac{2 x^{3}}{L^{3}}\\right) + ty_{2} \\left(\\frac{3 x^{2}}{L^{2}} - \\frac{2 x^{3}}{L^{3}}\\right)\\\\rz_{1} \\left(1 - \\frac{4 x}{L} + \\frac{3 x^{2}}{L^{2}}\\right) + rz_{2} \\left(- \\frac{2 x}{L} + \\frac{3 x^{2}}{L^{2}}\\right) + ty_{1} \\left(- \\frac{6 x}{L^{2}} + \\frac{6 x^{2}}{L^{3}}\\right) + ty_{2} \\left(\\frac{6 x}{L^{2}} - \\frac{6 x^{2}}{L^{3}}\\right)\\end{matrix}\\right]$"
      ],
      "text/plain": [
       "Matrix([\n",
       "[                                                                                                           tx1*(1 - x/L) + tx2*x/L],\n",
       "[rz1*(x - 2*x**2/L + x**3/L**2) + rz2*(-x**2/L + x**3/L**2) + ty1*(1 - 3*x**2/L**2 + 2*x**3/L**3) + ty2*(3*x**2/L**2 - 2*x**3/L**3)],\n",
       "[         rz1*(1 - 4*x/L + 3*x**2/L**2) + rz2*(-2*x/L + 3*x**2/L**2) + ty1*(-6*x/L**2 + 6*x**2/L**3) + ty2*(6*x/L**2 - 6*x**2/L**3)]])"
      ]
     },
     "execution_count": 1,
     "metadata": {},
     "output_type": "execute_result"
    }
   ],
   "source": [
    "from sympy import Symbol, symbols, integrate, diff, simplify\n",
    "from sympy.matrices import Matrix\n",
    "\n",
    "# Координата по длине балочного элемента.\n",
    "x = Symbol('x')\n",
    "\n",
    "# Полиномы поля перемещений балочного элемента (без постоянных коэффициентов).\n",
    "Q = Matrix([[1, x, 0, 0,    0,      0],  # Продольное перемещение (tx).\n",
    "            [0, 0, 1, x, x**2,   x**3],  # Поперечное перемещение (ty).\n",
    "            [0, 0, 0, 1,  2*x, 3*x**2]]) # Поворот сечения (rz).\n",
    "\n",
    "# Перемещения начала и конца балочного элемента.\n",
    "Z = Matrix(symbols('tx1, ty1, rz1, tx2, ty2, rz2'))\n",
    "# Длина балочного элемента.\n",
    "L = Symbol('L')\n",
    "# Полиномы для перемещения начала и конца балочного элемента.\n",
    "C = Q.subs(x, 0).col_join( Q.subs(x, L) )\n",
    "\n",
    "# Функция формы - выражение поля перемещений через перемещение узлов в начале\n",
    "# и конце балочного элемента.\n",
    "B = Q * C.inv() * Z\n",
    "B"
   ]
  },
  {
   "cell_type": "code",
   "execution_count": 2,
   "id": "285a3c76",
   "metadata": {},
   "outputs": [
    {
     "data": {
      "text/latex": [
       "$\\displaystyle \\left[\\begin{matrix}\\frac{EI \\left(tx_{1} - tx_{2}\\right)}{L}\\\\\\frac{6 EF \\left(L rz_{1} + L rz_{2} + 2 ty_{1} - 2 ty_{2}\\right)}{L^{3}}\\\\\\frac{2 EF \\left(2 L rz_{1} + L rz_{2} + 3 ty_{1} - 3 ty_{2}\\right)}{L^{2}}\\\\\\frac{EI \\left(- tx_{1} + tx_{2}\\right)}{L}\\\\\\frac{6 EF \\left(- L rz_{1} - L rz_{2} - 2 ty_{1} + 2 ty_{2}\\right)}{L^{3}}\\\\\\frac{2 EF \\left(L rz_{1} + 2 L rz_{2} + 3 ty_{1} - 3 ty_{2}\\right)}{L^{2}}\\end{matrix}\\right]$"
      ],
      "text/plain": [
       "Matrix([\n",
       "[                           EI*(tx1 - tx2)/L],\n",
       "[  6*EF*(L*rz1 + L*rz2 + 2*ty1 - 2*ty2)/L**3],\n",
       "[2*EF*(2*L*rz1 + L*rz2 + 3*ty1 - 3*ty2)/L**2],\n",
       "[                          EI*(-tx1 + tx2)/L],\n",
       "[ 6*EF*(-L*rz1 - L*rz2 - 2*ty1 + 2*ty2)/L**3],\n",
       "[2*EF*(L*rz1 + 2*L*rz2 + 3*ty1 - 3*ty2)/L**2]])"
      ]
     },
     "execution_count": 2,
     "metadata": {},
     "output_type": "execute_result"
    }
   ],
   "source": [
    "# Погонная осевая жесткость балки.\n",
    "EI = Symbol('EF')\n",
    "# Погонная изгибная жесткость балки.\n",
    "EF = Symbol('EI')\n",
    "# Потенциальная энергия деформации растяжения балки.\n",
    "Energy  = EF/2 * integrate(diff(B[0], x)**2, (x, 0, L))\n",
    "# Плюс потенциальная энергия деформации изгиба балки.\n",
    "Energy += EI/2 * integrate(diff(B[1], x, 2)**2, (x, 0, L))\n",
    "# Приращения энергии деформации балки по координатам.\n",
    "dEnergy = Matrix( len(Z), 1, lambda i, j: diff(Energy, Z[i]) )\n",
    "simplify(dEnergy)"
   ]
  },
  {
   "cell_type": "code",
   "execution_count": 3,
   "id": "8a41ab95",
   "metadata": {},
   "outputs": [
    {
     "data": {
      "text/latex": [
       "$\\displaystyle \\left[\\begin{matrix}\\frac{EI}{L} & 0 & 0 & - \\frac{EI}{L} & 0 & 0\\\\0 & \\frac{12 EF}{L^{3}} & \\frac{6 EF}{L^{2}} & 0 & - \\frac{12 EF}{L^{3}} & \\frac{6 EF}{L^{2}}\\\\0 & \\frac{6 EF}{L^{2}} & \\frac{4 EF}{L} & 0 & - \\frac{6 EF}{L^{2}} & \\frac{2 EF}{L}\\\\- \\frac{EI}{L} & 0 & 0 & \\frac{EI}{L} & 0 & 0\\\\0 & - \\frac{12 EF}{L^{3}} & - \\frac{6 EF}{L^{2}} & 0 & \\frac{12 EF}{L^{3}} & - \\frac{6 EF}{L^{2}}\\\\0 & \\frac{6 EF}{L^{2}} & \\frac{2 EF}{L} & 0 & - \\frac{6 EF}{L^{2}} & \\frac{4 EF}{L}\\end{matrix}\\right]$"
      ],
      "text/plain": [
       "Matrix([\n",
       "[ EI/L,           0,          0, -EI/L,           0,          0],\n",
       "[    0,  12*EF/L**3,  6*EF/L**2,     0, -12*EF/L**3,  6*EF/L**2],\n",
       "[    0,   6*EF/L**2,     4*EF/L,     0,  -6*EF/L**2,     2*EF/L],\n",
       "[-EI/L,           0,          0,  EI/L,           0,          0],\n",
       "[    0, -12*EF/L**3, -6*EF/L**2,     0,  12*EF/L**3, -6*EF/L**2],\n",
       "[    0,   6*EF/L**2,     2*EF/L,     0,  -6*EF/L**2,     4*EF/L]])"
      ]
     },
     "execution_count": 3,
     "metadata": {},
     "output_type": "execute_result"
    }
   ],
   "source": [
    "# Матрица жесткости элемента.\n",
    "K = simplify( Matrix(len(Z), len(Z), lambda i, j: (dEnergy - dEnergy.subs(Z[i], 0))[j]) )\n",
    "for z in Z:\n",
    "\tK = K.subs(z, 1)\n",
    "K"
   ]
  }
 ],
 "metadata": {
  "kernelspec": {
   "display_name": "Python 3",
   "language": "python",
   "name": "python3"
  },
  "language_info": {
   "codemirror_mode": {
    "name": "ipython",
    "version": 3
   },
   "file_extension": ".py",
   "mimetype": "text/x-python",
   "name": "python",
   "nbconvert_exporter": "python",
   "pygments_lexer": "ipython3",
   "version": "3.12.7"
  }
 },
 "nbformat": 4,
 "nbformat_minor": 5
}
