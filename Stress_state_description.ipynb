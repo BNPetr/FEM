{
 "cells": [
  {
   "cell_type": "markdown",
   "id": "02776cb1",
   "metadata": {},
   "source": [
    "## Описание напряженного состояния"
   ]
  },
  {
   "cell_type": "markdown",
   "id": "ec63d66e",
   "metadata": {},
   "source": [
    "### Тензор напряжений (тензор Коши)\n",
    "\n",
    "<img src=\"./Images/Stress_tensor.png\" alt=\"Тензор напряжений\" width=\"450\" style=\"background-color:white;\"/>\n",
    "\n",
    "**Тензор напряжений** — это симметричный тензор, который описывает распределение внутренних сил в материале. Он показывает, какие напряжения (силы на единицу площади) действуют на бесконечно малые площадки, проходящие через данную точку тела.\n",
    "\n",
    "#### Компоненты тензора напряжений в декартовой системе координат\n",
    "\n",
    "$$\n",
    "\\boldsymbol{\\sigma} =\n",
    "\\begin{bmatrix}\n",
    "\\sigma_{xx} & \\sigma_{xy} & \\sigma_{xz} \\\\\n",
    "\\sigma_{yx} & \\sigma_{yy} & \\sigma_{yz} \\\\\n",
    "\\sigma_{zx} & \\sigma_{zy} & \\sigma_{zz}\n",
    "\\end{bmatrix}\n",
    "$$\n",
    "\n",
    "- Диагональные компоненты $\\sigma_{xx}, \\sigma_{yy}, \\sigma_{zz}$ — нормальные напряжения (растяжение/сжатие).\n",
    "- Недиагональные компоненты $\\sigma_{xy}, \\sigma_{yz}$ и т.д. — касательные (сдвиговые) напряжения.\n",
    "- По закону парности касательных напряжений: $\\sigma_{ij} = \\sigma_{ji}$. Т.е. тензор симметричен, и содержит 6 независимых компонент.\n",
    "\n",
    "Физический смысл: если через точку провести площадку с нормалью $\\vec{n}$, то вектор напряжений на этой площадке:\n",
    "\n",
    "$$\n",
    "\\vec{T}^{(n)} = \\boldsymbol{\\sigma} \\cdot \\vec{n}\n",
    "$$"
   ]
  },
  {
   "cell_type": "markdown",
   "id": "4fe12cc7",
   "metadata": {},
   "source": []
  },
  {
   "cell_type": "markdown",
   "id": "10b48e82",
   "metadata": {},
   "source": [
    "### Общая форма уравнений равновесия\n",
    "\n",
    "$\n",
    "\\begin{cases}\n",
    "\\dfrac{\\partial \\sigma_{xx}}{\\partial x} + \\dfrac{\\partial \\sigma_{xy}}{\\partial y} + \\dfrac{\\partial \\sigma_{xz}}{\\partial z} + f_x = 0 \\\\[2ex]\n",
    "\\dfrac{\\partial \\sigma_{yx}}{\\partial x} + \\dfrac{\\partial \\sigma_{yy}}{\\partial y} + \\dfrac{\\partial \\sigma_{yz}}{\\partial z} + f_y = 0 \\\\[2ex]\n",
    "\\dfrac{\\partial \\sigma_{zx}}{\\partial x} + \\dfrac{\\partial \\sigma_{zy}}{\\partial y} + \\dfrac{\\partial \\sigma_{zz}}{\\partial z} + f_z = 0\n",
    "\\end{cases}\n",
    "$"
   ]
  },
  {
   "cell_type": "markdown",
   "id": "9477331b",
   "metadata": {},
   "source": []
  },
  {
   "cell_type": "markdown",
   "id": "2c6b8a49",
   "metadata": {},
   "source": []
  },
  {
   "cell_type": "markdown",
   "id": "641f704d",
   "metadata": {},
   "source": []
  }
 ],
 "metadata": {
  "kernelspec": {
   "display_name": "Python 3",
   "language": "python",
   "name": "python3"
  },
  "language_info": {
   "codemirror_mode": {
    "name": "ipython",
    "version": 3
   },
   "file_extension": ".py",
   "mimetype": "text/x-python",
   "name": "python",
   "nbconvert_exporter": "python",
   "pygments_lexer": "ipython3",
   "version": "3.12.7"
  }
 },
 "nbformat": 4,
 "nbformat_minor": 5
}
