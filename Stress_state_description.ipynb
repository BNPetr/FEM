{
 "cells": [
  {
   "cell_type": "markdown",
   "id": "02776cb1",
   "metadata": {},
   "source": [
    "## Описание напряженного состояния упругого тела"
   ]
  },
  {
   "cell_type": "markdown",
   "id": "ec63d66e",
   "metadata": {},
   "source": [
    "### Тензор напряжений (тензор Коши)\n",
    "\n",
    "**Тензор напряжений** — это симметричный тензор, который описывает распределение внутренних сил в материале. Он показывает, какие напряжения (силы на единицу площади) действуют на бесконечно малые площадки, проходящие через данную точку тела.\n",
    "\n",
    "<p align=\"center\">\n",
    "<img src=\"./Images/Stress_tensor.png\" alt=\"Тензор напряжений\" width=\"450\" style=\"background-color:white;\"/>\n",
    "</p>\n",
    "\n",
    "#### Компоненты тензора напряжений в декартовой системе координат\n",
    "\n",
    "$$\n",
    "\\boldsymbol{\\sigma} =\n",
    "\\begin{bmatrix}\n",
    "\\sigma_{xx} & \\sigma_{xy} & \\sigma_{xz} \\\\\n",
    "\\sigma_{yx} & \\sigma_{yy} & \\sigma_{yz} \\\\\n",
    "\\sigma_{zx} & \\sigma_{zy} & \\sigma_{zz}\n",
    "\\end{bmatrix}, где:\n",
    "$$\n",
    "\n",
    "- Диагональные компоненты $\\sigma_{xx}, \\sigma_{yy}, \\sigma_{zz}$ — нормальные напряжения (растяжение/сжатие).\n",
    "- Недиагональные компоненты $\\sigma_{xy}, \\sigma_{yz}$ и т.д. — касательные (сдвиговые) напряжения.\n",
    "- По закону парности касательных напряжений: $\\sigma_{ij} = \\sigma_{ji}$. Т.е. тензор симметричен, и содержит 6 независимых компонент.\n",
    "\n",
    "Если через точку провести площадку с нормалью $\\vec{n}$, то вектор напряжений на этой площадке:\n",
    "\n",
    "$$\n",
    "\\vec{T}^{(n)} = \\boldsymbol{\\sigma} \\cdot \\vec{n}\n",
    "$$"
   ]
  },
  {
   "cell_type": "markdown",
   "id": "4fe12cc7",
   "metadata": {},
   "source": [
    "### Тензор деформаций\n",
    "\n",
    "**Тензор деформаций** - это симметричный тензор, который описывает изменения формы и размеров бесконечно малого элемента тела (удлинения, сдвиги).\n",
    "\n",
    "<p align=\"center\">\n",
    "<img src=\"./Images/Strain_tensor.png\" alt=\"Тензор деформаций\" width=\"450\" style=\"background-color:white;\"/>\n",
    "</p>\n",
    "\n",
    "#### Компоненты тензора малых деформаций в декартовой системе координат\n",
    "\n",
    "$$\n",
    "\\boldsymbol{\\varepsilon} =\n",
    "\\begin{bmatrix}\n",
    "\\varepsilon_{xx} & \\varepsilon_{xy} & \\varepsilon_{xz} \\\\\n",
    "\\varepsilon_{yx} & \\varepsilon_{yy} & \\varepsilon_{yz} \\\\\n",
    "\\varepsilon_{zx} & \\varepsilon_{zy} & \\varepsilon_{zz}\n",
    "\\end{bmatrix}, где:\n",
    "$$\n",
    "- $\\varepsilon_{xx} = \\dfrac{\\partial u_x}{\\partial x}, \\varepsilon_{yy} = \\dfrac{\\partial u_y}{\\partial y}, \\varepsilon_{zz} = \\dfrac{\\partial u_z}{\\partial z}$ — относительные удлинения (нормальные деформации),\n",
    "- $\\varepsilon_{xy} = \\varepsilon_{yx} = \\dfrac{1}{2} \\left( \\dfrac{\\partial u_x}{\\partial y} + \\dfrac{\\partial u_y}{\\partial x} \\right)$ — половина угла сдвига в плоскости \\(xy\\),\n",
    "- Аналогично для других компонент."
   ]
  },
  {
   "cell_type": "markdown",
   "id": "9964dd7b",
   "metadata": {},
   "source": [
    "### Связь между тензорами напряжений и деформаций - физические уравнения\n",
    "\n",
    "Для линейно упругих тел связь между напряжениями и деформациями задаётся **законом Гука**:\n",
    "\n",
    "$$\n",
    "\\sigma_{ij} = C_{ijkl} \\, \\varepsilon_{kl},\n",
    "$$\n",
    "\n",
    "где $C_{ijkl}$ — тензор упругих постоянных. Он содержит 81 компонент, которые в общем случае (анизотропное тело) сводятся к 21 упругой константе, а для изотропного тела — к 2: модуль Юнга и коэффициент Пуассона.\n",
    "\n",
    "Для изотропного материала закон Гука в развёрнутом виде:\n",
    "\n",
    "$$\n",
    "\\begin{cases}\n",
    "\\sigma_{xx} = \\lambda (\\varepsilon_{xx} + \\varepsilon_{yy} + \\varepsilon_{zz}) + 2\\mu \\varepsilon_{xx} \\\\\n",
    "\\sigma_{yy} = \\lambda (\\varepsilon_{xx} + \\varepsilon_{yy} + \\varepsilon_{zz}) + 2\\mu \\varepsilon_{yy} \\\\\n",
    "\\sigma_{zz} = \\lambda (\\varepsilon_{xx} + \\varepsilon_{yy} + \\varepsilon_{zz}) + 2\\mu \\varepsilon_{zz} \\\\\n",
    "\\sigma_{xy} = 2\\mu \\varepsilon_{xy} \\\\\n",
    "\\sigma_{yz} = 2\\mu \\varepsilon_{yz} \\\\\n",
    "\\sigma_{zx} = 2\\mu \\varepsilon_{zx} \\\\\n",
    "\\end{cases}\n",
    "$$\n",
    "\n",
    "где $\\lambda, \\mu$ — коэффициенты, которые называют постоянными Ламе. Через модуль Юнга $E$ и коэффициент Пуассона $\\nu$ параметры Ламе выражаются следующим образом:\n",
    "\n",
    "$$\\lambda=\\frac{\\nu E}{(1+\\nu)(1-2\\nu)}$$\n",
    "$$\\mu=\\frac{E}{2(1+\\nu)}$$\n",
    "\n",
    "Второй коэффициент Ламе $\\mu$ также называют модулем сдвига и обозначают $G$."
   ]
  },
  {
   "cell_type": "markdown",
   "id": "cabb5bc9",
   "metadata": {},
   "source": [
    "### Общая форма уравнений равновесия"
   ]
  },
  {
   "cell_type": "markdown",
   "id": "10b48e82",
   "metadata": {},
   "source": [
    "В случае отсутствия сил инерции и при условии статического равновесия уравнения записываются так:\n",
    "\n",
    "$$\n",
    "\\begin{cases}\n",
    "\\dfrac{\\partial \\sigma_{xx}}{\\partial x} + \\dfrac{\\partial \\sigma_{xy}}{\\partial y} + \\dfrac{\\partial \\sigma_{xz}}{\\partial z} + f_x = 0 \\\\[2ex]\n",
    "\\dfrac{\\partial \\sigma_{yx}}{\\partial x} + \\dfrac{\\partial \\sigma_{yy}}{\\partial y} + \\dfrac{\\partial \\sigma_{yz}}{\\partial z} + f_y = 0 \\\\[2ex]\n",
    "\\dfrac{\\partial \\sigma_{zx}}{\\partial x} + \\dfrac{\\partial \\sigma_{zy}}{\\partial y} + \\dfrac{\\partial \\sigma_{zz}}{\\partial z} + f_z = 0\n",
    "\\end{cases}\n",
    "$$\n",
    "где $f_x, f_y, f_z$ — это объемные силы, например, компоненты силы тяжести\n"
   ]
  },
  {
   "cell_type": "markdown",
   "id": "9477331b",
   "metadata": {},
   "source": [
    "### Уравнения совместности деформаций\n",
    "\n",
    "Уравнения совместности деформаций — это условия, которым должны удовлетворять компоненты деформаций, чтобы они соответствовали реальному, физически возможному полю перемещений без разрывов и наложений.\n",
    "\n",
    "$$\n",
    "\\begin{aligned}\n",
    "&\\frac{\\partial^2 \\varepsilon_{xx}}{\\partial y^2} + \\frac{\\partial^2 \\varepsilon_{yy}}{\\partial x^2} = 2 \\frac{\\partial^2 \\varepsilon_{xy}}{\\partial x \\partial y} \\\\\n",
    "&\\frac{\\partial^2 \\varepsilon_{yy}}{\\partial z^2} + \\frac{\\partial^2 \\varepsilon_{zz}}{\\partial y^2} = 2 \\frac{\\partial^2 \\varepsilon_{yz}}{\\partial y \\partial z} \\\\\n",
    "&\\frac{\\partial^2 \\varepsilon_{zz}}{\\partial x^2} + \\frac{\\partial^2 \\varepsilon_{xx}}{\\partial z^2} = 2 \\frac{\\partial^2 \\varepsilon_{zx}}{\\partial z \\partial x} \\\\\n",
    "&\\frac{\\partial}{\\partial z} \\left( \\frac{\\partial \\varepsilon_{yz}}{\\partial x} + \\frac{\\partial \\varepsilon_{zx}}{\\partial y} - \\frac{\\partial \\varepsilon_{xy}}{\\partial z} \\right) = \\frac{\\partial^2 \\varepsilon_{xx}}{\\partial y \\partial z} \\\\\n",
    "&\\frac{\\partial}{\\partial x} \\left( \\frac{\\partial \\varepsilon_{zx}}{\\partial y} + \\frac{\\partial \\varepsilon_{xy}}{\\partial z} - \\frac{\\partial \\varepsilon_{yz}}{\\partial x} \\right) = \\frac{\\partial^2 \\varepsilon_{yy}}{\\partial z \\partial x} \\\\\n",
    "&\\frac{\\partial}{\\partial y} \\left( \\frac{\\partial \\varepsilon_{xy}}{\\partial z} + \\frac{\\partial \\varepsilon_{yz}}{\\partial x} - \\frac{\\partial \\varepsilon_{zx}}{\\partial y} \\right) = \\frac{\\partial^2 \\varepsilon_{zz}}{\\partial x \\partial y}\n",
    "\\end{aligned}\n",
    "$$"
   ]
  },
  {
   "cell_type": "markdown",
   "id": "2c6b8a49",
   "metadata": {},
   "source": []
  },
  {
   "cell_type": "markdown",
   "id": "641f704d",
   "metadata": {},
   "source": []
  }
 ],
 "metadata": {
  "kernelspec": {
   "display_name": "Python 3",
   "language": "python",
   "name": "python3"
  },
  "language_info": {
   "codemirror_mode": {
    "name": "ipython",
    "version": 3
   },
   "file_extension": ".py",
   "mimetype": "text/x-python",
   "name": "python",
   "nbconvert_exporter": "python",
   "pygments_lexer": "ipython3",
   "version": "3.12.7"
  }
 },
 "nbformat": 4,
 "nbformat_minor": 5
}
